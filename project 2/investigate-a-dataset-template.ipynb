{
 "cells": [
  {
   "cell_type": "markdown",
   "metadata": {},
   "source": [
    "# Project: Investigate a Dataset \n",
    "\n",
    "## Table of Contents\n",
    "<ul>\n",
    "<li><a href=\"#intro\">Introduction</a></li>\n",
    "<li><a href=\"#wrangling\">Data Wrangling</a></li>\n",
    "<li><a href=\"#eda\">Exploratory Data Analysis</a></li>\n",
    "<li><a href=\"#conclusions\">Conclusions</a></li>\n",
    "</ul>"
   ]
  },
  {
   "cell_type": "markdown",
   "metadata": {},
   "source": [
    "<a id='intro'></a>\n",
    "## Introduction\n",
    "\n",
    "> This is a project to invesigate a dataset from the International Movie Database (IMDB). This will entail three phases: wrangling which involves cleaning the data, Exploratory Data Analysis to observe trends in the data and Reporting the observation. This will be done using popular python libraies like NumPy, Pandas and Matplotlib. \n",
    "We will answer the following research questions:\n",
    "<li>What movies have the highest and lowest profits</li>\n",
    "<li>What movies have the highest and lowest revenues</li>\n",
    "<li>What movies have the highest and lowest budgets</li>\n",
    "<li>What movies have the highest and least runtimes</li>\n",
    "<li>What are the top 5 actors</li>\n",
    "<li>What are the top 5 movie genres</li>"
   ]
  },
  {
   "cell_type": "code",
   "execution_count": 1,
   "metadata": {},
   "outputs": [],
   "source": [
    "# Use this cell to set up import statements for all of the packages that you\n",
    "#   plan to use.\n",
    "import pandas as pd\n",
    "import numpy as np \n",
    "import matplotlib.pyplot as plt\n",
    "import seaborn as sns\n",
    "sns.set_style(\"white\")\n",
    "import operator\n",
    "\n",
    "# Remember to include a 'magic word' so that your visualizations are plotted\n",
    "#   inline with the notebook. See this page for more:\n",
    "#   http://ipython.readthedocs.io/en/stable/interactive/magics.html\n"
   ]
  },
  {
   "cell_type": "markdown",
   "metadata": {},
   "source": [
    "<a id='wrangling'></a>\n",
    "## Data Wrangling\n",
    "\n",
    "> In this section of the report, data is checked for cleanliness, and then further cleaned for analysis."
   ]
  },
  {
   "cell_type": "code",
   "execution_count": 2,
   "metadata": {},
   "outputs": [
    {
     "name": "stdout",
     "output_type": "stream",
     "text": [
      "<class 'pandas.core.frame.DataFrame'>\n",
      "RangeIndex: 10866 entries, 0 to 10865\n",
      "Data columns (total 21 columns):\n",
      " #   Column                Non-Null Count  Dtype  \n",
      "---  ------                --------------  -----  \n",
      " 0   id                    10866 non-null  int64  \n",
      " 1   imdb_id               10856 non-null  object \n",
      " 2   popularity            10866 non-null  float64\n",
      " 3   budget                10866 non-null  int64  \n",
      " 4   revenue               10866 non-null  int64  \n",
      " 5   original_title        10866 non-null  object \n",
      " 6   cast                  10790 non-null  object \n",
      " 7   homepage              2936 non-null   object \n",
      " 8   director              10822 non-null  object \n",
      " 9   tagline               8042 non-null   object \n",
      " 10  keywords              9373 non-null   object \n",
      " 11  overview              10862 non-null  object \n",
      " 12  runtime               10866 non-null  int64  \n",
      " 13  genres                10843 non-null  object \n",
      " 14  production_companies  9836 non-null   object \n",
      " 15  release_date          10866 non-null  object \n",
      " 16  vote_count            10866 non-null  int64  \n",
      " 17  vote_average          10866 non-null  float64\n",
      " 18  release_year          10866 non-null  int64  \n",
      " 19  budget_adj            10866 non-null  float64\n",
      " 20  revenue_adj           10866 non-null  float64\n",
      "dtypes: float64(4), int64(6), object(11)\n",
      "memory usage: 1.7+ MB\n"
     ]
    }
   ],
   "source": [
    "# Load your data and print out a few lines. Perform operations to inspect data\n",
    "df = pd.read_csv(\"tmdb-movies.csv\")\n",
    "#   types and look for instances of missing or possibly errant data.\n",
    "df.info()\n"
   ]
  },
  {
   "cell_type": "markdown",
   "metadata": {},
   "source": [
    "### Data Cleaning"
   ]
  },
  {
   "cell_type": "markdown",
   "metadata": {},
   "source": [
    "#### Step 1: Remove undesired columns"
   ]
  },
  {
   "cell_type": "code",
   "execution_count": 3,
   "metadata": {},
   "outputs": [],
   "source": [
    "# After discussing the structure of the data and any problems that need to be\n",
    "#   cleaned, perform those cleaning steps in the second part of this section.\n",
    "#During this phase, we shall be performing the following steps.\n",
    "\n",
    "df = df.drop(['imdb_id', 'popularity', 'budget_adj', 'revenue_adj', 'homepage', 'keywords', 'overview', 'production_companies', 'vote_count', 'vote_average'],1)\n"
   ]
  },
  {
   "cell_type": "code",
   "execution_count": 4,
   "metadata": {},
   "outputs": [
    {
     "data": {
      "text/html": [
       "<div>\n",
       "<style scoped>\n",
       "    .dataframe tbody tr th:only-of-type {\n",
       "        vertical-align: middle;\n",
       "    }\n",
       "\n",
       "    .dataframe tbody tr th {\n",
       "        vertical-align: top;\n",
       "    }\n",
       "\n",
       "    .dataframe thead th {\n",
       "        text-align: right;\n",
       "    }\n",
       "</style>\n",
       "<table border=\"1\" class=\"dataframe\">\n",
       "  <thead>\n",
       "    <tr style=\"text-align: right;\">\n",
       "      <th></th>\n",
       "      <th>id</th>\n",
       "      <th>budget</th>\n",
       "      <th>revenue</th>\n",
       "      <th>original_title</th>\n",
       "      <th>cast</th>\n",
       "      <th>director</th>\n",
       "      <th>tagline</th>\n",
       "      <th>runtime</th>\n",
       "      <th>genres</th>\n",
       "      <th>release_date</th>\n",
       "      <th>release_year</th>\n",
       "    </tr>\n",
       "  </thead>\n",
       "  <tbody>\n",
       "    <tr>\n",
       "      <th>0</th>\n",
       "      <td>135397</td>\n",
       "      <td>150000000</td>\n",
       "      <td>1513528810</td>\n",
       "      <td>Jurassic World</td>\n",
       "      <td>Chris Pratt|Bryce Dallas Howard|Irrfan Khan|Vi...</td>\n",
       "      <td>Colin Trevorrow</td>\n",
       "      <td>The park is open.</td>\n",
       "      <td>124</td>\n",
       "      <td>Action|Adventure|Science Fiction|Thriller</td>\n",
       "      <td>6/9/15</td>\n",
       "      <td>2015</td>\n",
       "    </tr>\n",
       "    <tr>\n",
       "      <th>1</th>\n",
       "      <td>76341</td>\n",
       "      <td>150000000</td>\n",
       "      <td>378436354</td>\n",
       "      <td>Mad Max: Fury Road</td>\n",
       "      <td>Tom Hardy|Charlize Theron|Hugh Keays-Byrne|Nic...</td>\n",
       "      <td>George Miller</td>\n",
       "      <td>What a Lovely Day.</td>\n",
       "      <td>120</td>\n",
       "      <td>Action|Adventure|Science Fiction|Thriller</td>\n",
       "      <td>5/13/15</td>\n",
       "      <td>2015</td>\n",
       "    </tr>\n",
       "  </tbody>\n",
       "</table>\n",
       "</div>"
      ],
      "text/plain": [
       "       id     budget     revenue      original_title  \\\n",
       "0  135397  150000000  1513528810      Jurassic World   \n",
       "1   76341  150000000   378436354  Mad Max: Fury Road   \n",
       "\n",
       "                                                cast         director  \\\n",
       "0  Chris Pratt|Bryce Dallas Howard|Irrfan Khan|Vi...  Colin Trevorrow   \n",
       "1  Tom Hardy|Charlize Theron|Hugh Keays-Byrne|Nic...    George Miller   \n",
       "\n",
       "              tagline  runtime                                     genres  \\\n",
       "0   The park is open.      124  Action|Adventure|Science Fiction|Thriller   \n",
       "1  What a Lovely Day.      120  Action|Adventure|Science Fiction|Thriller   \n",
       "\n",
       "  release_date  release_year  \n",
       "0       6/9/15          2015  \n",
       "1      5/13/15          2015  "
      ]
     },
     "execution_count": 4,
     "metadata": {},
     "output_type": "execute_result"
    }
   ],
   "source": [
    "df.head(2)"
   ]
  },
  {
   "cell_type": "markdown",
   "metadata": {},
   "source": [
    "#### Step 2: Remove duplicate records"
   ]
  },
  {
   "cell_type": "code",
   "execution_count": 5,
   "metadata": {},
   "outputs": [
    {
     "data": {
      "text/plain": [
       "(10865, 11)"
      ]
     },
     "execution_count": 5,
     "metadata": {},
     "output_type": "execute_result"
    }
   ],
   "source": [
    "#Removing duplicate records from the dataset\n",
    "df.drop_duplicates(inplace=True)\n",
    "df.shape"
   ]
  },
  {
   "cell_type": "markdown",
   "metadata": {},
   "source": [
    "#### Step 3: Remove null values from desired columns"
   ]
  },
  {
   "cell_type": "code",
   "execution_count": 6,
   "metadata": {},
   "outputs": [],
   "source": [
    "df = df[df['cast'].isnull() == False]\n",
    "df = df[df['genres'].isnull() == False]"
   ]
  },
  {
   "cell_type": "markdown",
   "metadata": {},
   "source": [
    "#### Step 4: Remove zero values from revenue and budget"
   ]
  },
  {
   "cell_type": "code",
   "execution_count": 7,
   "metadata": {},
   "outputs": [],
   "source": [
    "df[['budget', 'revenue']] = df[['budget', 'revenue']].replace(0, np.NAN)"
   ]
  },
  {
   "cell_type": "code",
   "execution_count": 8,
   "metadata": {},
   "outputs": [],
   "source": [
    "#### Step 5: Remove rows with NaN"
   ]
  },
  {
   "cell_type": "code",
   "execution_count": 9,
   "metadata": {},
   "outputs": [],
   "source": [
    "df.dropna(inplace = True)"
   ]
  },
  {
   "cell_type": "code",
   "execution_count": 10,
   "metadata": {},
   "outputs": [],
   "source": [
    "#Exploring the dataframe, the budget and the revenue columns contain zeros, this is undesired so we choose\n",
    "#a strategy of replacing it with the mean\n",
    "#getting the mean"
   ]
  },
  {
   "cell_type": "markdown",
   "metadata": {},
   "source": [
    "<a id='eda'></a>\n",
    "## Exploratory Data Analysis\n",
    "\n",
    "> Here we will compute statistics and create visualizations with the goal of addressing each research question. We will look at one variable at a time, and then further follow it up by looking at relationships between variables.\n",
    "\n",
    "### Summary of Movies with the highest and lowest profit"
   ]
  },
  {
   "cell_type": "code",
   "execution_count": 11,
   "metadata": {},
   "outputs": [],
   "source": [
    "# Insert a new column to the dataframe called profit\n",
    "df.insert(2,'profit',df['revenue']-df['budget'])"
   ]
  },
  {
   "cell_type": "code",
   "execution_count": 12,
   "metadata": {},
   "outputs": [
    {
     "data": {
      "text/html": [
       "<div>\n",
       "<style scoped>\n",
       "    .dataframe tbody tr th:only-of-type {\n",
       "        vertical-align: middle;\n",
       "    }\n",
       "\n",
       "    .dataframe tbody tr th {\n",
       "        vertical-align: top;\n",
       "    }\n",
       "\n",
       "    .dataframe thead th {\n",
       "        text-align: right;\n",
       "    }\n",
       "</style>\n",
       "<table border=\"1\" class=\"dataframe\">\n",
       "  <thead>\n",
       "    <tr style=\"text-align: right;\">\n",
       "      <th></th>\n",
       "      <th>1386</th>\n",
       "      <th>2244</th>\n",
       "    </tr>\n",
       "  </thead>\n",
       "  <tbody>\n",
       "    <tr>\n",
       "      <th>id</th>\n",
       "      <td>19995</td>\n",
       "      <td>46528</td>\n",
       "    </tr>\n",
       "    <tr>\n",
       "      <th>budget</th>\n",
       "      <td>2.37e+08</td>\n",
       "      <td>4.25e+08</td>\n",
       "    </tr>\n",
       "    <tr>\n",
       "      <th>profit</th>\n",
       "      <td>2.54451e+09</td>\n",
       "      <td>-4.13912e+08</td>\n",
       "    </tr>\n",
       "    <tr>\n",
       "      <th>revenue</th>\n",
       "      <td>2.78151e+09</td>\n",
       "      <td>1.10876e+07</td>\n",
       "    </tr>\n",
       "    <tr>\n",
       "      <th>original_title</th>\n",
       "      <td>Avatar</td>\n",
       "      <td>The Warrior's Way</td>\n",
       "    </tr>\n",
       "    <tr>\n",
       "      <th>cast</th>\n",
       "      <td>Sam Worthington|Zoe Saldana|Sigourney Weaver|S...</td>\n",
       "      <td>Kate Bosworth|Jang Dong-gun|Geoffrey Rush|Dann...</td>\n",
       "    </tr>\n",
       "    <tr>\n",
       "      <th>director</th>\n",
       "      <td>James Cameron</td>\n",
       "      <td>Sngmoo Lee</td>\n",
       "    </tr>\n",
       "    <tr>\n",
       "      <th>tagline</th>\n",
       "      <td>Enter the World of Pandora.</td>\n",
       "      <td>Assassin. Hero. Legend.</td>\n",
       "    </tr>\n",
       "    <tr>\n",
       "      <th>runtime</th>\n",
       "      <td>162</td>\n",
       "      <td>100</td>\n",
       "    </tr>\n",
       "    <tr>\n",
       "      <th>genres</th>\n",
       "      <td>Action|Adventure|Fantasy|Science Fiction</td>\n",
       "      <td>Adventure|Fantasy|Action|Western|Thriller</td>\n",
       "    </tr>\n",
       "    <tr>\n",
       "      <th>release_date</th>\n",
       "      <td>12/10/09</td>\n",
       "      <td>12/2/10</td>\n",
       "    </tr>\n",
       "    <tr>\n",
       "      <th>release_year</th>\n",
       "      <td>2009</td>\n",
       "      <td>2010</td>\n",
       "    </tr>\n",
       "  </tbody>\n",
       "</table>\n",
       "</div>"
      ],
      "text/plain": [
       "                                                             1386  \\\n",
       "id                                                          19995   \n",
       "budget                                                   2.37e+08   \n",
       "profit                                                2.54451e+09   \n",
       "revenue                                               2.78151e+09   \n",
       "original_title                                             Avatar   \n",
       "cast            Sam Worthington|Zoe Saldana|Sigourney Weaver|S...   \n",
       "director                                            James Cameron   \n",
       "tagline                               Enter the World of Pandora.   \n",
       "runtime                                                       162   \n",
       "genres                   Action|Adventure|Fantasy|Science Fiction   \n",
       "release_date                                             12/10/09   \n",
       "release_year                                                 2009   \n",
       "\n",
       "                                                             2244  \n",
       "id                                                          46528  \n",
       "budget                                                   4.25e+08  \n",
       "profit                                               -4.13912e+08  \n",
       "revenue                                               1.10876e+07  \n",
       "original_title                                  The Warrior's Way  \n",
       "cast            Kate Bosworth|Jang Dong-gun|Geoffrey Rush|Dann...  \n",
       "director                                               Sngmoo Lee  \n",
       "tagline                                   Assassin. Hero. Legend.  \n",
       "runtime                                                       100  \n",
       "genres                  Adventure|Fantasy|Action|Western|Thriller  \n",
       "release_date                                              12/2/10  \n",
       "release_year                                                 2010  "
      ]
     },
     "execution_count": 12,
     "metadata": {},
     "output_type": "execute_result"
    }
   ],
   "source": [
    "#implementing the profit calculator\n",
    "def range_calculator(col):\n",
    "   higehest_profit_info=pd.DataFrame(df.loc[df[col].idxmax()])\n",
    "   lowest_profit_info=pd.DataFrame(df.loc[df[col].idxmin()])\n",
    "   info=pd.concat([higehest_profit_info, lowest_profit_info], axis=1)\n",
    "   return info\n",
    "range_calculator('profit')"
   ]
  },
  {
   "cell_type": "markdown",
   "metadata": {},
   "source": [
    "### Summary of Movies with the Highest and Lowest Budget"
   ]
  },
  {
   "cell_type": "code",
   "execution_count": 13,
   "metadata": {},
   "outputs": [
    {
     "data": {
      "text/html": [
       "<div>\n",
       "<style scoped>\n",
       "    .dataframe tbody tr th:only-of-type {\n",
       "        vertical-align: middle;\n",
       "    }\n",
       "\n",
       "    .dataframe tbody tr th {\n",
       "        vertical-align: top;\n",
       "    }\n",
       "\n",
       "    .dataframe thead th {\n",
       "        text-align: right;\n",
       "    }\n",
       "</style>\n",
       "<table border=\"1\" class=\"dataframe\">\n",
       "  <thead>\n",
       "    <tr style=\"text-align: right;\">\n",
       "      <th></th>\n",
       "      <th>2244</th>\n",
       "      <th>2618</th>\n",
       "    </tr>\n",
       "  </thead>\n",
       "  <tbody>\n",
       "    <tr>\n",
       "      <th>id</th>\n",
       "      <td>46528</td>\n",
       "      <td>39964</td>\n",
       "    </tr>\n",
       "    <tr>\n",
       "      <th>budget</th>\n",
       "      <td>4.25e+08</td>\n",
       "      <td>1</td>\n",
       "    </tr>\n",
       "    <tr>\n",
       "      <th>profit</th>\n",
       "      <td>-4.13912e+08</td>\n",
       "      <td>99</td>\n",
       "    </tr>\n",
       "    <tr>\n",
       "      <th>revenue</th>\n",
       "      <td>1.10876e+07</td>\n",
       "      <td>100</td>\n",
       "    </tr>\n",
       "    <tr>\n",
       "      <th>original_title</th>\n",
       "      <td>The Warrior's Way</td>\n",
       "      <td>Lost &amp; Found</td>\n",
       "    </tr>\n",
       "    <tr>\n",
       "      <th>cast</th>\n",
       "      <td>Kate Bosworth|Jang Dong-gun|Geoffrey Rush|Dann...</td>\n",
       "      <td>David Spade|Sophie Marceau|Ever Carradine|Step...</td>\n",
       "    </tr>\n",
       "    <tr>\n",
       "      <th>director</th>\n",
       "      <td>Sngmoo Lee</td>\n",
       "      <td>Jeff Pollack</td>\n",
       "    </tr>\n",
       "    <tr>\n",
       "      <th>tagline</th>\n",
       "      <td>Assassin. Hero. Legend.</td>\n",
       "      <td>A comedy about a guy who would do anything to ...</td>\n",
       "    </tr>\n",
       "    <tr>\n",
       "      <th>runtime</th>\n",
       "      <td>100</td>\n",
       "      <td>95</td>\n",
       "    </tr>\n",
       "    <tr>\n",
       "      <th>genres</th>\n",
       "      <td>Adventure|Fantasy|Action|Western|Thriller</td>\n",
       "      <td>Comedy|Romance</td>\n",
       "    </tr>\n",
       "    <tr>\n",
       "      <th>release_date</th>\n",
       "      <td>12/2/10</td>\n",
       "      <td>4/23/99</td>\n",
       "    </tr>\n",
       "    <tr>\n",
       "      <th>release_year</th>\n",
       "      <td>2010</td>\n",
       "      <td>1999</td>\n",
       "    </tr>\n",
       "  </tbody>\n",
       "</table>\n",
       "</div>"
      ],
      "text/plain": [
       "                                                             2244  \\\n",
       "id                                                          46528   \n",
       "budget                                                   4.25e+08   \n",
       "profit                                               -4.13912e+08   \n",
       "revenue                                               1.10876e+07   \n",
       "original_title                                  The Warrior's Way   \n",
       "cast            Kate Bosworth|Jang Dong-gun|Geoffrey Rush|Dann...   \n",
       "director                                               Sngmoo Lee   \n",
       "tagline                                   Assassin. Hero. Legend.   \n",
       "runtime                                                       100   \n",
       "genres                  Adventure|Fantasy|Action|Western|Thriller   \n",
       "release_date                                              12/2/10   \n",
       "release_year                                                 2010   \n",
       "\n",
       "                                                             2618  \n",
       "id                                                          39964  \n",
       "budget                                                          1  \n",
       "profit                                                         99  \n",
       "revenue                                                       100  \n",
       "original_title                                       Lost & Found  \n",
       "cast            David Spade|Sophie Marceau|Ever Carradine|Step...  \n",
       "director                                             Jeff Pollack  \n",
       "tagline         A comedy about a guy who would do anything to ...  \n",
       "runtime                                                        95  \n",
       "genres                                             Comedy|Romance  \n",
       "release_date                                              4/23/99  \n",
       "release_year                                                 1999  "
      ]
     },
     "execution_count": 13,
     "metadata": {},
     "output_type": "execute_result"
    }
   ],
   "source": [
    "# Calculate summary of movies with the highest and lowest budget using range_calculator\n",
    "range_calculator('budget')"
   ]
  },
  {
   "cell_type": "markdown",
   "metadata": {},
   "source": [
    "### Summary of Movies with the Highest and Lowest Revenue"
   ]
  },
  {
   "cell_type": "code",
   "execution_count": 14,
   "metadata": {},
   "outputs": [
    {
     "data": {
      "text/html": [
       "<div>\n",
       "<style scoped>\n",
       "    .dataframe tbody tr th:only-of-type {\n",
       "        vertical-align: middle;\n",
       "    }\n",
       "\n",
       "    .dataframe tbody tr th {\n",
       "        vertical-align: top;\n",
       "    }\n",
       "\n",
       "    .dataframe thead th {\n",
       "        text-align: right;\n",
       "    }\n",
       "</style>\n",
       "<table border=\"1\" class=\"dataframe\">\n",
       "  <thead>\n",
       "    <tr style=\"text-align: right;\">\n",
       "      <th></th>\n",
       "      <th>1386</th>\n",
       "      <th>8142</th>\n",
       "    </tr>\n",
       "  </thead>\n",
       "  <tbody>\n",
       "    <tr>\n",
       "      <th>id</th>\n",
       "      <td>19995</td>\n",
       "      <td>2293</td>\n",
       "    </tr>\n",
       "    <tr>\n",
       "      <th>budget</th>\n",
       "      <td>2.37e+08</td>\n",
       "      <td>6e+06</td>\n",
       "    </tr>\n",
       "    <tr>\n",
       "      <th>profit</th>\n",
       "      <td>2.54451e+09</td>\n",
       "      <td>-6e+06</td>\n",
       "    </tr>\n",
       "    <tr>\n",
       "      <th>revenue</th>\n",
       "      <td>2.78151e+09</td>\n",
       "      <td>2</td>\n",
       "    </tr>\n",
       "    <tr>\n",
       "      <th>original_title</th>\n",
       "      <td>Avatar</td>\n",
       "      <td>Mallrats</td>\n",
       "    </tr>\n",
       "    <tr>\n",
       "      <th>cast</th>\n",
       "      <td>Sam Worthington|Zoe Saldana|Sigourney Weaver|S...</td>\n",
       "      <td>Jason Lee|Jeremy London|Shannen Doherty|Claire...</td>\n",
       "    </tr>\n",
       "    <tr>\n",
       "      <th>director</th>\n",
       "      <td>James Cameron</td>\n",
       "      <td>Kevin Smith</td>\n",
       "    </tr>\n",
       "    <tr>\n",
       "      <th>tagline</th>\n",
       "      <td>Enter the World of Pandora.</td>\n",
       "      <td>They're not there to shop. They're not there t...</td>\n",
       "    </tr>\n",
       "    <tr>\n",
       "      <th>runtime</th>\n",
       "      <td>162</td>\n",
       "      <td>94</td>\n",
       "    </tr>\n",
       "    <tr>\n",
       "      <th>genres</th>\n",
       "      <td>Action|Adventure|Fantasy|Science Fiction</td>\n",
       "      <td>Romance|Comedy</td>\n",
       "    </tr>\n",
       "    <tr>\n",
       "      <th>release_date</th>\n",
       "      <td>12/10/09</td>\n",
       "      <td>10/20/95</td>\n",
       "    </tr>\n",
       "    <tr>\n",
       "      <th>release_year</th>\n",
       "      <td>2009</td>\n",
       "      <td>1995</td>\n",
       "    </tr>\n",
       "  </tbody>\n",
       "</table>\n",
       "</div>"
      ],
      "text/plain": [
       "                                                             1386  \\\n",
       "id                                                          19995   \n",
       "budget                                                   2.37e+08   \n",
       "profit                                                2.54451e+09   \n",
       "revenue                                               2.78151e+09   \n",
       "original_title                                             Avatar   \n",
       "cast            Sam Worthington|Zoe Saldana|Sigourney Weaver|S...   \n",
       "director                                            James Cameron   \n",
       "tagline                               Enter the World of Pandora.   \n",
       "runtime                                                       162   \n",
       "genres                   Action|Adventure|Fantasy|Science Fiction   \n",
       "release_date                                             12/10/09   \n",
       "release_year                                                 2009   \n",
       "\n",
       "                                                             8142  \n",
       "id                                                           2293  \n",
       "budget                                                      6e+06  \n",
       "profit                                                     -6e+06  \n",
       "revenue                                                         2  \n",
       "original_title                                           Mallrats  \n",
       "cast            Jason Lee|Jeremy London|Shannen Doherty|Claire...  \n",
       "director                                              Kevin Smith  \n",
       "tagline         They're not there to shop. They're not there t...  \n",
       "runtime                                                        94  \n",
       "genres                                             Romance|Comedy  \n",
       "release_date                                             10/20/95  \n",
       "release_year                                                 1995  "
      ]
     },
     "execution_count": 14,
     "metadata": {},
     "output_type": "execute_result"
    }
   ],
   "source": [
    "# Calculate summary of movies with the highest and lowest revenue using range_calculator\n",
    "range_calculator('revenue')"
   ]
  },
  {
   "cell_type": "markdown",
   "metadata": {},
   "source": [
    "### Summary of Movies with the Highest and Lowest Runtimes"
   ]
  },
  {
   "cell_type": "code",
   "execution_count": 15,
   "metadata": {},
   "outputs": [
    {
     "data": {
      "text/html": [
       "<div>\n",
       "<style scoped>\n",
       "    .dataframe tbody tr th:only-of-type {\n",
       "        vertical-align: middle;\n",
       "    }\n",
       "\n",
       "    .dataframe tbody tr th {\n",
       "        vertical-align: top;\n",
       "    }\n",
       "\n",
       "    .dataframe thead th {\n",
       "        text-align: right;\n",
       "    }\n",
       "</style>\n",
       "<table border=\"1\" class=\"dataframe\">\n",
       "  <thead>\n",
       "    <tr style=\"text-align: right;\">\n",
       "      <th></th>\n",
       "      <th>2107</th>\n",
       "      <th>8005</th>\n",
       "    </tr>\n",
       "  </thead>\n",
       "  <tbody>\n",
       "    <tr>\n",
       "      <th>id</th>\n",
       "      <td>43434</td>\n",
       "      <td>14813</td>\n",
       "    </tr>\n",
       "    <tr>\n",
       "      <th>budget</th>\n",
       "      <td>1.8e+07</td>\n",
       "      <td>3e+06</td>\n",
       "    </tr>\n",
       "    <tr>\n",
       "      <th>profit</th>\n",
       "      <td>-1.71287e+07</td>\n",
       "      <td>1.8e+07</td>\n",
       "    </tr>\n",
       "    <tr>\n",
       "      <th>revenue</th>\n",
       "      <td>871279</td>\n",
       "      <td>2.1e+07</td>\n",
       "    </tr>\n",
       "    <tr>\n",
       "      <th>original_title</th>\n",
       "      <td>Carlos</td>\n",
       "      <td>Mickey's Christmas Carol</td>\n",
       "    </tr>\n",
       "    <tr>\n",
       "      <th>cast</th>\n",
       "      <td>Edgar RamÃ­rez|Alexander Scheer|Fadi Abi Samra...</td>\n",
       "      <td>Alan Young|Wayne Allwine|Clarence Nash|Hal Smi...</td>\n",
       "    </tr>\n",
       "    <tr>\n",
       "      <th>director</th>\n",
       "      <td>Olivier Assayas</td>\n",
       "      <td>Burny Mattinson</td>\n",
       "    </tr>\n",
       "    <tr>\n",
       "      <th>tagline</th>\n",
       "      <td>The man who hijacked the world</td>\n",
       "      <td>He's back! Mickey Mouse - in his first new mot...</td>\n",
       "    </tr>\n",
       "    <tr>\n",
       "      <th>runtime</th>\n",
       "      <td>338</td>\n",
       "      <td>26</td>\n",
       "    </tr>\n",
       "    <tr>\n",
       "      <th>genres</th>\n",
       "      <td>Crime|Drama|Thriller|History</td>\n",
       "      <td>Family|Animation</td>\n",
       "    </tr>\n",
       "    <tr>\n",
       "      <th>release_date</th>\n",
       "      <td>5/19/10</td>\n",
       "      <td>10/19/83</td>\n",
       "    </tr>\n",
       "    <tr>\n",
       "      <th>release_year</th>\n",
       "      <td>2010</td>\n",
       "      <td>1983</td>\n",
       "    </tr>\n",
       "  </tbody>\n",
       "</table>\n",
       "</div>"
      ],
      "text/plain": [
       "                                                             2107  \\\n",
       "id                                                          43434   \n",
       "budget                                                    1.8e+07   \n",
       "profit                                               -1.71287e+07   \n",
       "revenue                                                    871279   \n",
       "original_title                                             Carlos   \n",
       "cast            Edgar RamÃ­rez|Alexander Scheer|Fadi Abi Samra...   \n",
       "director                                          Olivier Assayas   \n",
       "tagline                            The man who hijacked the world   \n",
       "runtime                                                       338   \n",
       "genres                               Crime|Drama|Thriller|History   \n",
       "release_date                                              5/19/10   \n",
       "release_year                                                 2010   \n",
       "\n",
       "                                                             8005  \n",
       "id                                                          14813  \n",
       "budget                                                      3e+06  \n",
       "profit                                                    1.8e+07  \n",
       "revenue                                                   2.1e+07  \n",
       "original_title                           Mickey's Christmas Carol  \n",
       "cast            Alan Young|Wayne Allwine|Clarence Nash|Hal Smi...  \n",
       "director                                          Burny Mattinson  \n",
       "tagline         He's back! Mickey Mouse - in his first new mot...  \n",
       "runtime                                                        26  \n",
       "genres                                           Family|Animation  \n",
       "release_date                                             10/19/83  \n",
       "release_year                                                 1983  "
      ]
     },
     "execution_count": 15,
     "metadata": {},
     "output_type": "execute_result"
    }
   ],
   "source": [
    "# Calculate summary of movies with the highest and lowest revenue using range_calculator\n",
    "range_calculator('runtime')"
   ]
  },
  {
   "cell_type": "markdown",
   "metadata": {},
   "source": [
    "#### Plotting a histogram of runtime of movies"
   ]
  },
  {
   "cell_type": "code",
   "execution_count": 16,
   "metadata": {},
   "outputs": [
    {
     "data": {
      "text/html": [
       "<div>\n",
       "<style scoped>\n",
       "    .dataframe tbody tr th:only-of-type {\n",
       "        vertical-align: middle;\n",
       "    }\n",
       "\n",
       "    .dataframe tbody tr th {\n",
       "        vertical-align: top;\n",
       "    }\n",
       "\n",
       "    .dataframe thead th {\n",
       "        text-align: right;\n",
       "    }\n",
       "</style>\n",
       "<table border=\"1\" class=\"dataframe\">\n",
       "  <thead>\n",
       "    <tr style=\"text-align: right;\">\n",
       "      <th></th>\n",
       "      <th>count</th>\n",
       "      <th>mean</th>\n",
       "      <th>max</th>\n",
       "    </tr>\n",
       "    <tr>\n",
       "      <th>genres</th>\n",
       "      <th></th>\n",
       "      <th></th>\n",
       "      <th></th>\n",
       "    </tr>\n",
       "  </thead>\n",
       "  <tbody>\n",
       "    <tr>\n",
       "      <th>Comedy</th>\n",
       "      <td>217.0</td>\n",
       "      <td>2.765101e+07</td>\n",
       "      <td>112000000.0</td>\n",
       "    </tr>\n",
       "    <tr>\n",
       "      <th>Comedy|Romance</th>\n",
       "      <td>96.0</td>\n",
       "      <td>2.980325e+07</td>\n",
       "      <td>100000000.0</td>\n",
       "    </tr>\n",
       "    <tr>\n",
       "      <th>Drama</th>\n",
       "      <td>208.0</td>\n",
       "      <td>2.303725e+07</td>\n",
       "      <td>130000000.0</td>\n",
       "    </tr>\n",
       "    <tr>\n",
       "      <th>Drama|Romance</th>\n",
       "      <td>92.0</td>\n",
       "      <td>1.984334e+07</td>\n",
       "      <td>105000000.0</td>\n",
       "    </tr>\n",
       "    <tr>\n",
       "      <th>Horror|Thriller</th>\n",
       "      <td>80.0</td>\n",
       "      <td>1.192879e+07</td>\n",
       "      <td>65000000.0</td>\n",
       "    </tr>\n",
       "  </tbody>\n",
       "</table>\n",
       "</div>"
      ],
      "text/plain": [
       "                 count          mean          max\n",
       "genres                                           \n",
       "Comedy           217.0  2.765101e+07  112000000.0\n",
       "Comedy|Romance    96.0  2.980325e+07  100000000.0\n",
       "Drama            208.0  2.303725e+07  130000000.0\n",
       "Drama|Romance     92.0  1.984334e+07  105000000.0\n",
       "Horror|Thriller   80.0  1.192879e+07   65000000.0"
      ]
     },
     "execution_count": 16,
     "metadata": {},
     "output_type": "execute_result"
    },
    {
     "data": {
      "image/png": "[encoded data removed]",
      "text/plain": [
       "<Figure size 432x288 with 1 Axes>"
      ]
     },
     "metadata": {},
     "output_type": "display_data"
    }
   ],
   "source": [
    "df_1 = df.groupby(['genres'])[['id']].count().sort_values(by=['id'], ascending=False)[0:5]\n",
    "df_new = df[df['genres'].isin(df_1.index.values.tolist())]\n",
    "df_new1 = df_new[df_new['budget']>0]\n",
    "df_new1.boxplot(column=['budget'], by =['genres'], rot=90).set_yscale('log')\n",
    "pd.DataFrame(df_new1.groupby(['genres'])['budget'].describe().loc[:, ['count','mean','max']])"
   ]
  },
  {
   "cell_type": "code",
   "execution_count": 54,
   "metadata": {},
   "outputs": [
    {
     "data": {
      "text/html": [
       "<div>\n",
       "<style scoped>\n",
       "    .dataframe tbody tr th:only-of-type {\n",
       "        vertical-align: middle;\n",
       "    }\n",
       "\n",
       "    .dataframe tbody tr th {\n",
       "        vertical-align: top;\n",
       "    }\n",
       "\n",
       "    .dataframe thead th {\n",
       "        text-align: right;\n",
       "    }\n",
       "</style>\n",
       "<table border=\"1\" class=\"dataframe\">\n",
       "  <thead>\n",
       "    <tr style=\"text-align: right;\">\n",
       "      <th></th>\n",
       "      <th>id</th>\n",
       "    </tr>\n",
       "    <tr>\n",
       "      <th>genres</th>\n",
       "      <th></th>\n",
       "    </tr>\n",
       "  </thead>\n",
       "  <tbody>\n",
       "    <tr>\n",
       "      <th>Comedy</th>\n",
       "      <td>217</td>\n",
       "    </tr>\n",
       "    <tr>\n",
       "      <th>Comedy|Romance</th>\n",
       "      <td>96</td>\n",
       "    </tr>\n",
       "    <tr>\n",
       "      <th>Drama</th>\n",
       "      <td>208</td>\n",
       "    </tr>\n",
       "    <tr>\n",
       "      <th>Drama|Romance</th>\n",
       "      <td>92</td>\n",
       "    </tr>\n",
       "    <tr>\n",
       "      <th>Horror|Thriller</th>\n",
       "      <td>80</td>\n",
       "    </tr>\n",
       "  </tbody>\n",
       "</table>\n",
       "</div>"
      ],
      "text/plain": [
       "                  id\n",
       "genres              \n",
       "Comedy           217\n",
       "Comedy|Romance    96\n",
       "Drama            208\n",
       "Drama|Romance     92\n",
       "Horror|Thriller   80"
      ]
     },
     "execution_count": 54,
     "metadata": {},
     "output_type": "execute_result"
    },
    {
     "data": {
      "image/png": "[encoded data removed]",
      "text/plain": [
       "<Figure size 1368x864 with 1 Axes>"
      ]
     },
     "metadata": {},
     "output_type": "display_data"
    }
   ],
   "source": [
    "#giving the figure size(width, height)\n",
    "plt.figure(figsize=(19,12))\n",
    "plt.xlabel('Profit made from Movies', fontsize = 20)\n",
    "plt.title('Profit Made from Movies', fontsize=20)\n",
    "plt.ylabel('Count', fontsize=20)\n",
    "# plt.show()\n",
    "df_new1.groupby(['genres'])['id'].count().plot(kind='bar', by=['genres'])\n",
    "df_new1.groupby(['genres'])[['id']].count()"
   ]
  },
  {
   "cell_type": "markdown",
   "metadata": {},
   "source": [
    "### A box plot of genres and budget "
   ]
  },
  {
   "cell_type": "code",
   "execution_count": 18,
   "metadata": {},
   "outputs": [
    {
     "data": {
      "text/html": [
       "<div>\n",
       "<style scoped>\n",
       "    .dataframe tbody tr th:only-of-type {\n",
       "        vertical-align: middle;\n",
       "    }\n",
       "\n",
       "    .dataframe tbody tr th {\n",
       "        vertical-align: top;\n",
       "    }\n",
       "\n",
       "    .dataframe thead th {\n",
       "        text-align: right;\n",
       "    }\n",
       "</style>\n",
       "<table border=\"1\" class=\"dataframe\">\n",
       "  <thead>\n",
       "    <tr style=\"text-align: right;\">\n",
       "      <th></th>\n",
       "      <th>count</th>\n",
       "      <th>mean</th>\n",
       "      <th>max</th>\n",
       "    </tr>\n",
       "    <tr>\n",
       "      <th>genres</th>\n",
       "      <th></th>\n",
       "      <th></th>\n",
       "      <th></th>\n",
       "    </tr>\n",
       "  </thead>\n",
       "  <tbody>\n",
       "    <tr>\n",
       "      <th>Comedy</th>\n",
       "      <td>217.0</td>\n",
       "      <td>2.765101e+07</td>\n",
       "      <td>112000000.0</td>\n",
       "    </tr>\n",
       "    <tr>\n",
       "      <th>Comedy|Romance</th>\n",
       "      <td>96.0</td>\n",
       "      <td>2.980325e+07</td>\n",
       "      <td>100000000.0</td>\n",
       "    </tr>\n",
       "    <tr>\n",
       "      <th>Drama</th>\n",
       "      <td>208.0</td>\n",
       "      <td>2.303725e+07</td>\n",
       "      <td>130000000.0</td>\n",
       "    </tr>\n",
       "    <tr>\n",
       "      <th>Drama|Romance</th>\n",
       "      <td>92.0</td>\n",
       "      <td>1.984334e+07</td>\n",
       "      <td>105000000.0</td>\n",
       "    </tr>\n",
       "    <tr>\n",
       "      <th>Horror|Thriller</th>\n",
       "      <td>80.0</td>\n",
       "      <td>1.192879e+07</td>\n",
       "      <td>65000000.0</td>\n",
       "    </tr>\n",
       "  </tbody>\n",
       "</table>\n",
       "</div>"
      ],
      "text/plain": [
       "                 count          mean          max\n",
       "genres                                           \n",
       "Comedy           217.0  2.765101e+07  112000000.0\n",
       "Comedy|Romance    96.0  2.980325e+07  100000000.0\n",
       "Drama            208.0  2.303725e+07  130000000.0\n",
       "Drama|Romance     92.0  1.984334e+07  105000000.0\n",
       "Horror|Thriller   80.0  1.192879e+07   65000000.0"
      ]
     },
     "execution_count": 18,
     "metadata": {},
     "output_type": "execute_result"
    },
    {
     "data": {
      "image/png": "[encoded data removed]",
      "text/plain": [
       "<Figure size 432x288 with 1 Axes>"
      ]
     },
     "metadata": {},
     "output_type": "display_data"
    }
   ],
   "source": [
    "df_1 = df.groupby(['genres'])[['id']].count().sort_values(by=['id'], ascending=False)[0:5]\n",
    "df_new = df[df['genres'].isin(df_1.index.values.tolist())]\n",
    "df_new1 = df_new[df_new['budget']>0]\n",
    "df_new1.boxplot(column=['budget'], by =['genres'], rot=90).set_yscale('log')\n",
    "pd.DataFrame(df_new1.groupby(['genres'])['budget'].describe().loc[:, ['count','mean','max']])"
   ]
  },
  {
   "cell_type": "markdown",
   "metadata": {},
   "source": [
    "### Top 5 Movies Genres"
   ]
  },
  {
   "cell_type": "code",
   "execution_count": 19,
   "metadata": {},
   "outputs": [],
   "source": [
    "#A functions that strips individual items based on the \"|\"\n",
    "#and then creates a dictionary of items to produce top 5 items from the dictionary\n",
    "\n",
    "def calculate_top_5(column):\n",
    "    list_stuffs = {}\n",
    "\n",
    "    stuffs = df[column]\n",
    "    stuffs = stuffs.str.split(\"|\")\n",
    "    stuffs = np.array(stuffs)\n",
    "    for itemList in stuffs:\n",
    "        for stuff in itemList:\n",
    "                stuff = stuff.lstrip() #trim the whitespaces\n",
    "                if stuff not in list_stuffs:\n",
    "                    list_stuffs[stuff] = 1\n",
    "                else:\n",
    "                    list_stuffs[stuff] += 1\n",
    "\n",
    "\n",
    "\n",
    "    sorted_list_stuffs = sorted(list_stuffs.items(), key = operator.itemgetter(1), reverse = True)\n",
    "    return sorted_list_stuffs[0:5]"
   ]
  },
  {
   "cell_type": "code",
   "execution_count": 20,
   "metadata": {},
   "outputs": [
    {
     "data": {
      "text/plain": [
       "[('Drama', 1572),\n",
       " ('Comedy', 1255),\n",
       " ('Thriller', 1149),\n",
       " ('Action', 1046),\n",
       " ('Adventure', 720)]"
      ]
     },
     "execution_count": 20,
     "metadata": {},
     "output_type": "execute_result"
    }
   ],
   "source": [
    "calculate_top_5('genres')"
   ]
  },
  {
   "cell_type": "markdown",
   "metadata": {},
   "source": [
    "### Top 5 Actors that Appear Most"
   ]
  },
  {
   "cell_type": "code",
   "execution_count": 28,
   "metadata": {},
   "outputs": [
    {
     "data": {
      "text/plain": [
       "[('Robert De Niro', 50),\n",
       " ('Bruce Willis', 44),\n",
       " ('Samuel L. Jackson', 43),\n",
       " ('Nicolas Cage', 41),\n",
       " ('Matt Damon', 35)]"
      ]
     },
     "execution_count": 28,
     "metadata": {},
     "output_type": "execute_result"
    }
   ],
   "source": [
    "calculate_top_5('cast')"
   ]
  },
  {
   "cell_type": "markdown",
   "metadata": {},
   "source": [
    "### Correlation Between Datasets using a Pair plot"
   ]
  },
  {
   "cell_type": "code",
   "execution_count": 52,
   "metadata": {},
   "outputs": [
    {
     "data": {
      "text/html": [
       "<div>\n",
       "<style scoped>\n",
       "    .dataframe tbody tr th:only-of-type {\n",
       "        vertical-align: middle;\n",
       "    }\n",
       "\n",
       "    .dataframe tbody tr th {\n",
       "        vertical-align: top;\n",
       "    }\n",
       "\n",
       "    .dataframe thead th {\n",
       "        text-align: right;\n",
       "    }\n",
       "</style>\n",
       "<table border=\"1\" class=\"dataframe\">\n",
       "  <thead>\n",
       "    <tr style=\"text-align: right;\">\n",
       "      <th></th>\n",
       "      <th></th>\n",
       "      <th></th>\n",
       "      <th></th>\n",
       "      <th></th>\n",
       "    </tr>\n",
       "    <tr>\n",
       "      <th>genres</th>\n",
       "      <th>profit</th>\n",
       "      <th>revenue</th>\n",
       "      <th>budget</th>\n",
       "      <th>runtime</th>\n",
       "    </tr>\n",
       "  </thead>\n",
       "  <tbody>\n",
       "    <tr>\n",
       "      <th rowspan=\"5\" valign=\"top\">Action</th>\n",
       "      <th>-58067057.0</th>\n",
       "      <th>76932943.0</th>\n",
       "      <th>135000000.0</th>\n",
       "      <th>121</th>\n",
       "    </tr>\n",
       "    <tr>\n",
       "      <th>-39255262.0</th>\n",
       "      <th>54744738.0</th>\n",
       "      <th>94000000.0</th>\n",
       "      <th>116</th>\n",
       "    </tr>\n",
       "    <tr>\n",
       "      <th>-14988268.0</th>\n",
       "      <th>55011732.0</th>\n",
       "      <th>70000000.0</th>\n",
       "      <th>139</th>\n",
       "    </tr>\n",
       "    <tr>\n",
       "      <th>-14177139.0</th>\n",
       "      <th>30822861.0</th>\n",
       "      <th>45000000.0</th>\n",
       "      <th>99</th>\n",
       "    </tr>\n",
       "    <tr>\n",
       "      <th>-2716629.0</th>\n",
       "      <th>3283371.0</th>\n",
       "      <th>6000000.0</th>\n",
       "      <th>99</th>\n",
       "    </tr>\n",
       "    <tr>\n",
       "      <th>...</th>\n",
       "      <th>...</th>\n",
       "      <th>...</th>\n",
       "      <th>...</th>\n",
       "      <th>...</th>\n",
       "    </tr>\n",
       "    <tr>\n",
       "      <th>Western|Drama</th>\n",
       "      <th>-16803693.0</th>\n",
       "      <th>1196307.0</th>\n",
       "      <th>18000000.0</th>\n",
       "      <th>115</th>\n",
       "    </tr>\n",
       "    <tr>\n",
       "      <th>Western|Drama|Adventure|Thriller</th>\n",
       "      <th>397950503.0</th>\n",
       "      <th>532950503.0</th>\n",
       "      <th>135000000.0</th>\n",
       "      <th>156</th>\n",
       "    </tr>\n",
       "    <tr>\n",
       "      <th>Western|History</th>\n",
       "      <th>5795189.0</th>\n",
       "      <th>15795189.0</th>\n",
       "      <th>10000000.0</th>\n",
       "      <th>99</th>\n",
       "    </tr>\n",
       "    <tr>\n",
       "      <th>Western|History|War</th>\n",
       "      <th>-119180039.0</th>\n",
       "      <th>25819961.0</th>\n",
       "      <th>145000000.0</th>\n",
       "      <th>137</th>\n",
       "    </tr>\n",
       "    <tr>\n",
       "      <th>Western|Thriller</th>\n",
       "      <th>-6993853.0</th>\n",
       "      <th>6147.0</th>\n",
       "      <th>7000000.0</th>\n",
       "      <th>95</th>\n",
       "    </tr>\n",
       "  </tbody>\n",
       "</table>\n",
       "<p>3572 rows × 0 columns</p>\n",
       "</div>"
      ],
      "text/plain": [
       "Empty DataFrame\n",
       "Columns: []\n",
       "Index: [(Action, -58067057.0, 76932943.0, 135000000.0, 121), (Action, -39255262.0, 54744738.0, 94000000.0, 116), (Action, -14988268.0, 55011732.0, 70000000.0, 139), (Action, -14177139.0, 30822861.0, 45000000.0, 99), (Action, -2716629.0, 3283371.0, 6000000.0, 99), (Action, 608545.0, 15608545.0, 15000000.0, 96), (Action, 6546197.0, 46546197.0, 40000000.0, 84), (Action, 7465299.0, 45465299.0, 38000000.0, 111), (Action, 10306119.0, 11806119.0, 1500000.0, 92), (Action, 13681566.0, 56681566.0, 43000000.0, 97), (Action, 27784194.0, 87784194.0, 60000000.0, 127), (Action, 30795814.0, 58795814.0, 28000000.0, 102), (Action, 50416905.0, 85416905.0, 35000000.0, 100), (Action, 69185582.0, 98185582.0, 29000000.0, 102), (Action, 82944923.0, 162944923.0, 80000000.0, 128), (Action, 96000000.0, 136000000.0, 40000000.0, 110), (Action, 110669540.0, 310669540.0, 200000000.0, 140), (Action, 207448382.0, 277448382.0, 70000000.0, 124), (Action, 532330139.0, 682330139.0, 150000000.0, 131), (Action|Adventure, -79482678.0, 18517322.0, 98000000.0, 119), (Action|Adventure, -8720548.0, 61279452.0, 70000000.0, 99), (Action|Adventure, -1000000.0, 7500000.0, 8500000.0, 90), (Action|Adventure, 27400547.0, 57400547.0, 30000000.0, 95), (Action|Adventure, 79563118.0, 84563118.0, 5000000.0, 117), (Action|Adventure, 143400000.0, 243400000.0, 100000000.0, 99), (Action|Adventure|Animation|Family|Fantasy, 424987477.0, 554987477.0, 130000000.0, 90), (Action|Adventure|Animation|Family|Science Fiction, 539442092.0, 631442092.0, 92000000.0, 115), (Action|Adventure|Animation|Science Fiction, 1731128.0, 5231128.0, 3500000.0, 75), (Action|Adventure|Animation|Science Fiction|Thriller, 18428063.0, 48428063.0, 30000000.0, 79), (Action|Adventure|Comedy, -47781920.0, 17218080.0, 65000000.0, 100), (Action|Adventure|Comedy, -37821105.0, 72178895.0, 110000000.0, 120), (Action|Adventure|Comedy, -12335441.0, 47664559.0, 60000000.0, 112), (Action|Adventure|Comedy, -12261773.0, 238227.0, 12500000.0, 100), (Action|Adventure|Comedy, -3890000.0, 6110000.0, 10000000.0, 90), (Action|Adventure|Comedy, 8408614.0, 63408614.0, 55000000.0, 104), (Action|Adventure|Comedy, 11482931.0, 25482931.0, 14000000.0, 95), (Action|Adventure|Comedy, 23898845.0, 53898845.0, 30000000.0, 105), (Action|Adventure|Comedy, 24350000.0, 29950000.0, 5600000.0, 138), (Action|Adventure|Comedy, 33000000.0, 108000000.0, 75000000.0, 114), (Action|Adventure|Comedy, 45000000.0, 71000000.0, 26000000.0, 106), (Action|Adventure|Comedy, 54817939.0, 79817939.0, 25000000.0, 94), (Action|Adventure|Comedy, 60803676.0, 110803676.0, 50000000.0, 104), (Action|Adventure|Comedy, 66865564.0, 86865564.0, 20000000.0, 86), (Action|Adventure|Comedy|Crime, 10342161.0, 20342161.0, 10000000.0, 84), (Action|Adventure|Comedy|Crime, 59649227.0, 78247647.0, 18598420.0, 101), (Action|Adventure|Comedy|Crime, 139175788.0, 259175788.0, 120000000.0, 106), (Action|Adventure|Comedy|Crime|Drama, 13256975.0, 20256975.0, 7000000.0, 96), (Action|Adventure|Comedy|Crime|Drama, 145444603.0, 285444603.0, 140000000.0, 127), (Action|Adventure|Comedy|Crime|Thriller, -23012437.0, 31987563.0, 55000000.0, 117), (Action|Adventure|Comedy|Crime|Thriller, 13664962.0, 71664962.0, 58000000.0, 111), (Action|Adventure|Comedy|Crime|Thriller, 172105545.0, 264105545.0, 92000000.0, 98), (Action|Adventure|Comedy|Crime|Thriller, 202853986.0, 227853986.0, 25000000.0, 114), (Action|Adventure|Comedy|Drama, 15754284.0, 25754284.0, 10000000.0, 108), (Action|Adventure|Comedy|Drama|Family, 49141030.0, 61141030.0, 12000000.0, 93), (Action|Adventure|Comedy|Drama|Mystery, -10730514.0, 119269486.0, 130000000.0, 124), (Action|Adventure|Comedy|Drama|Science Fiction, -16625257.0, 374743.0, 17000000.0, 144), (Action|Adventure|Comedy|Drama|Science Fiction, 52104681.0, 222104681.0, 170000000.0, 106), (Action|Adventure|Comedy|Drama|Western, 98033791.0, 124033791.0, 26000000.0, 112), (Action|Adventure|Comedy|Family, -33328495.0, 16671505.0, 50000000.0, 99), (Action|Adventure|Comedy|Family, -1481903.0, 22518097.0, 24000000.0, 100), (Action|Adventure|Comedy|Family, 77597242.0, 107597242.0, 30000000.0, 94), (Action|Adventure|Comedy|Family, 81723358.0, 119723358.0, 38000000.0, 100), (Action|Adventure|Comedy|Family, 157293131.0, 183293131.0, 26000000.0, 91), (Action|Adventure|Comedy|Family|Fantasy, 21.0, 42.0, 21.0, 96), (Action|Adventure|Comedy|Family|Fantasy, 464480841.0, 574480841.0, 110000000.0, 108), (Action|Adventure|Comedy|Family|Science Fiction, 159011982.0, 197011982.0, 38000000.0, 84), (Action|Adventure|Comedy|Family|Thriller, -906293.0, 5093707.0, 6000000.0, 86), (Action|Adventure|Comedy|Romance, 71773200.0, 96773200.0, 25000000.0, 106), (Action|Adventure|Comedy|Romance, 76572238.0, 86572238.0, 10000000.0, 106), (Action|Adventure|Comedy|Romance, 94000000.0, 164000000.0, 70000000.0, 98), (Action|Adventure|Comedy|Science Fiction, -1158691.0, 2341309.0, 3500000.0, 89), (Action|Adventure|Comedy|Science Fiction, 102055768.0, 159055768.0, 57000000.0, 115), (Action|Adventure|Comedy|Science Fiction, 301818803.0, 441818803.0, 140000000.0, 88), (Action|Adventure|Comedy|Science Fiction, 499390539.0, 589390539.0, 90000000.0, 98), (Action|Adventure|Comedy|Thriller, -36438863.0, 33561137.0, 70000000.0, 97), (Action|Adventure|Comedy|Thriller, -4022705.0, 65977295.0, 70000000.0, 116), (Action|Adventure|Comedy|Thriller, -3703816.0, 1296184.0, 5000000.0, 106), (Action|Adventure|Comedy|Thriller, -2388046.0, 22611954.0, 25000000.0, 84), (Action|Adventure|Comedy|Thriller, 14007143.0, 27007143.0, 13000000.0, 91), (Action|Adventure|Comedy|Thriller, 50631118.0, 69631118.0, 19000000.0, 95), (Action|Adventure|Comedy|Thriller|Crime, -43279825.0, 18720175.0, 62000000.0, 125), (Action|Adventure|Comedy|Western, 38323487.0, 88323487.0, 50000000.0, 115), (Action|Adventure|Crime, -8490253.0, 9747.0, 8500000.0, 99), (Action|Adventure|Crime, 1000000.0, 29000000.0, 28000000.0, 103), (Action|Adventure|Crime, 635674609.0, 880674609.0, 245000000.0, 148), (Action|Adventure|Crime|Drama, 11480851.0, 41480851.0, 30000000.0, 125), (Action|Adventure|Crime|Drama|Fantasy, -3189887.0, 26810113.0, 30000000.0, 102), (Action|Adventure|Crime|Drama|Mystery, -5452319.0, 44547681.0, 50000000.0, 140), (Action|Adventure|Crime|Drama|Romance, -7505520.0, 2494480.0, 10000000.0, 94), (Action|Adventure|Crime|Drama|Thriller, -24805000.0, 25195000.0, 50000000.0, 97), (Action|Adventure|Crime|Drama|Thriller, -17617826.0, 382174.0, 18000000.0, 98), (Action|Adventure|Crime|Drama|Thriller, 2923000.0, 5923000.0, 3000000.0, 88), (Action|Adventure|Crime|Drama|Thriller, 3048693.0, 5048693.0, 2000000.0, 104), (Action|Adventure|Crime|Drama|Thriller, 13174566.0, 73174566.0, 60000000.0, 101), (Action|Adventure|Crime|Mystery|Thriller, -1420000.0, 23580000.0, 25000000.0, 97), (Action|Adventure|Crime|Science Fiction|Thriller, -11303790.0, 10696210.0, 22000000.0, 104), (Action|Adventure|Crime|Science Fiction|Thriller, 10681173.0, 45681173.0, 35000000.0, 117), (Action|Adventure|Crime|Thriller, -44000000.0, 16000000.0, 60000000.0, 105), (Action|Adventure|Crime|Thriller, -19696928.0, 30303072.0, 50000000.0, 132), (Action|Adventure|Crime|Thriller, 10664721.0, 65664721.0, 55000000.0, 105), ...]\n",
       "\n",
       "[3572 rows x 0 columns]"
      ]
     },
     "execution_count": 52,
     "metadata": {},
     "output_type": "execute_result"
    },
    {
     "data": {
      "image/png": "[encoded data removed]",
      "text/plain": [
       "<Figure size 720x720 with 16 Axes>"
      ]
     },
     "metadata": {},
     "output_type": "display_data"
    }
   ],
   "source": [
    "# Numeric columns from dataframe \n",
    "pair_plot_df = df[['revenue', 'budget', 'profit', 'runtime', 'genres']]     \n",
    "pair_plot = sns.pairplot(pair_plot_df, diag_kind=\"reg\")\n",
    "pair_plot_df.groupby(['genres','profit','revenue','budget','runtime']).count()"
   ]
  },
  {
   "cell_type": "code",
   "execution_count": null,
   "metadata": {},
   "outputs": [],
   "source": []
  },
  {
   "cell_type": "markdown",
   "metadata": {},
   "source": [
    "<a id='conclusions'></a>\n",
    "## Conclusions\n",
    "\n",
    ">THe dataset is very rich with lots of information about a lot of movies. The data is well structured making it a kind of easy to wrangle. This dataset can help movie producers make sound business decisions and also assist viewers decide on a choice of movies. Recommender systems can even be built from the dataset and other interesting Machine Learning models that can be used to achieve numerous stuffs.\n",
    "From the analysis we were able to clean a movie Dataset with so much details that gave a lot of insights about the movies on the IMDB.\n",
    "We highlighted some research questions in the introduction section of this project and answered them based on the dataset in the EDA section and depicted them using appropriate charts. The observations from the data are as follows:\n",
    "<li>The movies with the highest profit is Avatar where as The Warrior's ways had the lowest profit (they made a loss).</li>\n",
    "<li> From the data, the profit made is impacted by the runtime and the budget for the movies. This implies that when producing any movie, ensure that you have enough budget for the movie in order to cater for relevant needs for the movie </li>\n",
    "<li> Comedy is the most successful genre. People tend to watch movie that have much humor in them. From my personal experience, if a movie does not have elements of humor in it, I turn it down. It is reasonable that horror is one of the least watched movie among the successful genre. Horror/thrillers are rated so the number of people that watch it are limited.</li>\n",
    "### Limitations of analysis\n",
    "> Other interesting things that can be done from the data is to check the most appearance of actors in movies. Then further compare with the actors in most successful movies/genres in terms of profits; this can simply be used as a yardstick to determine top actors and see roles they can perform based on their genres. Unfortunately this dataset doesn't provide such ratings for actors genrally even though there could be a seperate dataset for that."
   ]
  },
  {
   "cell_type": "code",
   "execution_count": null,
   "metadata": {},
   "outputs": [],
   "source": []
  }
 ],
 "metadata": {
  "kernelspec": {
   "display_name": "Python 3",
   "language": "python",
   "name": "python3"
  },
  "language_info": {
   "codemirror_mode": {
    "name": "ipython",
    "version": 3
   },
   "file_extension": ".py",
   "mimetype": "text/x-python",
   "name": "python",
   "nbconvert_exporter": "python",
   "pygments_lexer": "ipython3",
   "version": "3.7.6"
  }
 },
 "nbformat": 4,
 "nbformat_minor": 2
}
